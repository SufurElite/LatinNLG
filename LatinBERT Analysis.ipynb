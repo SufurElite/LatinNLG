{
 "cells": [
  {
   "cell_type": "markdown",
   "metadata": {},
   "source": [
    "# LatinBERT Language Generation"
   ]
  },
  {
   "cell_type": "code",
   "execution_count": null,
   "metadata": {},
   "outputs": [
    {
     "name": "stderr",
     "output_type": "stream",
     "text": [
      "/home/rufus/anaconda3/envs/latinbert/lib/python3.10/site-packages/tqdm/auto.py:22: TqdmWarning: IProgress not found. Please update jupyter and ipywidgets. See https://ipywidgets.readthedocs.io/en/stable/user_install.html\n",
      "  from .autonotebook import tqdm as notebook_tqdm\n"
     ]
    },
    {
     "name": "stdout",
     "output_type": "stream",
     "text": [
      "Retrieving Perseus Texts\n",
      "Retrieving Latin Library Texts\n",
      "Retrieving \"Italian Poets in Latin\" Texts\n",
      "Retrieving CLTK Tesserae Latin Corpus\n",
      "Retrieving the Grammaticorum Latinorum Texts\n",
      "Installing Language Models\n",
      "Downloading Latin word2vec model\n",
      "CLTK message: This part of the CLTK depends upon word embedding models from the NLPL project.\n",
      "Do you want to download file 'http://vectors.nlpl.eu/repository/20/56.zip' to '/home/rufus/Desktop/Research/Latin NLG/LatinNLG/Data/texts/lat/embeddings/nlpl/56.zip'? [Y/n] \n"
     ]
    }
   ],
   "source": [
    "from Data import fetch\n",
    "fetch.text_retrieval()"
   ]
  }
 ],
 "metadata": {
  "kernelspec": {
   "display_name": "Python 3 (ipykernel)",
   "language": "python",
   "name": "python3"
  },
  "language_info": {
   "codemirror_mode": {
    "name": "ipython",
    "version": 3
   },
   "file_extension": ".py",
   "mimetype": "text/x-python",
   "name": "python",
   "nbconvert_exporter": "python",
   "pygments_lexer": "ipython3",
   "version": "3.10.4"
  }
 },
 "nbformat": 4,
 "nbformat_minor": 2
}
