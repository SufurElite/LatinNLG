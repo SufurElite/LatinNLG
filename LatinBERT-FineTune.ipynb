{
 "cells": [
  {
   "attachments": {},
   "cell_type": "markdown",
   "id": "a8e10e30",
   "metadata": {},
   "source": [
    "# Finetuning Latin BERT and Generating New Text\n",
    "This notebook is devoted to fine-tuning LatinBERT on particular author subsets and generating on updated weights. \n",
    "\n",
    "Regardless, of whether fine-tuning or generating new text, these imports are necessary:"
   ]
  },
  {
   "cell_type": "code",
   "execution_count": null,
   "id": "7da0781f-58c8-480e-9a56-d68c580d5155",
   "metadata": {
    "execution": {
     "iopub.execute_input": "2023-05-13T04:27:50.848343Z",
     "iopub.status.busy": "2023-05-13T04:27:50.847597Z",
     "iopub.status.idle": "2023-05-13T04:27:55.767947Z",
     "shell.execute_reply": "2023-05-13T04:27:55.767194Z",
     "shell.execute_reply.started": "2023-05-13T04:27:50.848311Z"
    }
   },
   "outputs": [],
   "source": [
    "import numpy as np\n",
    "import os, re\n",
    "from Data import dataExp\n",
    "import torch\n",
    "from transformers import AutoTokenizer, AutoModelForMaskedLM, TextDataset, DataCollatorForLanguageModeling\n",
    "from tensor2tensor.data_generators import text_encoder\n",
    "\n",
    "torch.cuda.empty_cache()\n",
    "device = torch.device(\"cuda\" if torch.cuda.is_available() else \"cpu\")\n"
   ]
  },
  {
   "attachments": {},
   "cell_type": "markdown",
   "id": "c06b9e09",
   "metadata": {},
   "source": [
    "<hr>\n",
    "\n",
    "## Fine-tuning\n",
    "Now, we can focus on fine-tuning LatinBERT for a specific author. First, let's define the author here so it doesn't need to be repeatedly changed when we want to fine-tune on a new author. We also define some parameters for the fine-tuning of the model later."
   ]
  },
  {
   "cell_type": "code",
   "execution_count": null,
   "id": "270df543-d01f-4a3e-a726-cf3866a6e654",
   "metadata": {
    "execution": {
     "iopub.execute_input": "2023-05-13T04:27:57.710585Z",
     "iopub.status.busy": "2023-05-13T04:27:57.709314Z",
     "iopub.status.idle": "2023-05-13T04:27:57.727517Z",
     "shell.execute_reply": "2023-05-13T04:27:57.726839Z",
     "shell.execute_reply.started": "2023-05-13T04:27:57.710557Z"
    }
   },
   "outputs": [],
   "source": [
    "# Define the number of training epochs\n",
    "num_epochs = 100\n",
    "\n",
    "# Define the batch size\n",
    "batch_size = 8\n",
    "\n",
    "# Define lists for storing the training loss\n",
    "train_loss_step = []\n",
    "train_loss_epoch = []\n",
    "\n",
    "log_interval = 20\n",
    "author = \"Caesar\""
   ]
  },
  {
   "attachments": {},
   "cell_type": "markdown",
   "id": "01d4245f",
   "metadata": {},
   "source": [
    "After selecting the author, we load the Corpus Interface and the text for the given author."
   ]
  },
  {
   "cell_type": "code",
   "execution_count": null,
   "id": "2b1848da-eb9d-48bd-9714-655a3ee40e64",
   "metadata": {
    "execution": {
     "iopub.execute_input": "2023-05-12T13:07:08.318629Z",
     "iopub.status.busy": "2023-05-12T13:07:08.318307Z",
     "iopub.status.idle": "2023-05-12T13:07:09.984283Z",
     "shell.execute_reply": "2023-05-12T13:07:09.983588Z",
     "shell.execute_reply.started": "2023-05-12T13:07:08.318604Z"
    }
   },
   "outputs": [],
   "source": [
    "CI = dataExp.CorpusInterface(corpus_name=\"text_corpus.pickle\", shouldTokenize = False)\n",
    "text = CI.get_text_for_author(author=author,shouldShuffle=True)"
   ]
  },
  {
   "attachments": {},
   "cell_type": "markdown",
   "id": "269cfe47",
   "metadata": {},
   "source": [
    "Let's save the author's text into a text file and print how long it is. We put into a text file because there is a HuggingFace class that can create a dataset out of a text file and we print the length purely for research/interest purposes."
   ]
  },
  {
   "cell_type": "code",
   "execution_count": 4,
   "id": "0d885025-ab3a-4bff-9ff5-79a9c39207bc",
   "metadata": {
    "execution": {
     "iopub.execute_input": "2023-04-14T00:23:18.766167Z",
     "iopub.status.busy": "2023-04-14T00:23:18.765593Z",
     "iopub.status.idle": "2023-04-14T00:23:18.771454Z",
     "shell.execute_reply": "2023-04-14T00:23:18.770774Z",
     "shell.execute_reply.started": "2023-04-14T00:23:18.766144Z"
    }
   },
   "outputs": [
    {
     "name": "stdout",
     "output_type": "stream",
     "text": [
      "1473628\n"
     ]
    }
   ],
   "source": [
    "with open(f\"{author}_data.txt\", \"w+\") as f:\n",
    "    f.write(text)\n",
    "print(len(text))"
   ]
  },
  {
   "attachments": {},
   "cell_type": "markdown",
   "id": "16cfaf0e",
   "metadata": {},
   "source": [
    "Now, we load in the default LatinBERT model and tokenizer weights, and put it on the device (to make use of the GPU if possible)"
   ]
  },
  {
   "cell_type": "code",
   "execution_count": null,
   "id": "a5bc7ff1-340e-4879-9359-94ece597ecea",
   "metadata": {
    "execution": {
     "iopub.execute_input": "2023-05-12T13:07:20.290539Z",
     "iopub.status.busy": "2023-05-12T13:07:20.289836Z",
     "iopub.status.idle": "2023-05-12T13:07:25.900722Z",
     "shell.execute_reply": "2023-05-12T13:07:25.900158Z",
     "shell.execute_reply.started": "2023-05-12T13:07:20.290510Z"
    }
   },
   "outputs": [],
   "source": [
    "path_to_latin_bert = \"./LatinBERT/\"\n",
    "tokenizer = AutoTokenizer.from_pretrained(path_to_latin_bert)\n",
    "model = AutoModelForMaskedLM.from_pretrained(path_to_latin_bert+\"latin_bert/\")\n",
    "model.to(device)"
   ]
  },
  {
   "attachments": {},
   "cell_type": "markdown",
   "id": "57214ba9-d273-4f39-b48a-342ddf442d93",
   "metadata": {
    "execution": {
     "iopub.execute_input": "2023-03-30T02:20:17.507285Z",
     "iopub.status.busy": "2023-03-30T02:20:17.506963Z",
     "iopub.status.idle": "2023-03-30T02:34:35.366336Z",
     "shell.execute_reply": "2023-03-30T02:34:35.365497Z",
     "shell.execute_reply.started": "2023-03-30T02:20:17.507262Z"
    }
   },
   "source": [
    "The next function ends up not being used, but I had experimented with defining a custom collate function so thatprocess of creating a data loader could also be done on the GPU rather than the CPU, which increased the wait times for the code."
   ]
  },
  {
   "cell_type": "code",
   "execution_count": 6,
   "id": "1e1ee27c-3aa0-41c6-97f6-f65df3204703",
   "metadata": {
    "execution": {
     "iopub.execute_input": "2023-04-14T00:23:38.113131Z",
     "iopub.status.busy": "2023-04-14T00:23:38.112442Z",
     "iopub.status.idle": "2023-04-14T00:23:38.118033Z",
     "shell.execute_reply": "2023-04-14T00:23:38.117202Z",
     "shell.execute_reply.started": "2023-04-14T00:23:38.113105Z"
    }
   },
   "outputs": [],
   "source": [
    "def collate_fn(batch):\n",
    "    input_ids = torch.stack([torch.tensor(item[0]) for item in batch])\n",
    "    attention_mask = torch.stack([torch.tensor(item[1]) for item in batch])\n",
    "    labels = torch.stack([torch.tensor(item[2]) for item in batch])\n",
    "\n",
    "    # Move data to the device\n",
    "    device = torch.device(\"cuda\" if torch.cuda.is_available() else \"cpu\")\n",
    "    input_ids = input_ids.to(device)\n",
    "    attention_mask = attention_mask.to(device)\n",
    "    labels = labels.to(device)\n",
    "\n",
    "    return {\"input_ids\": input_ids, \"attention_mask\": attention_mask, \"labels\": labels}\n"
   ]
  },
  {
   "attachments": {},
   "cell_type": "markdown",
   "id": "ac7eda94",
   "metadata": {},
   "source": [
    "We now create a dataset, the collator, (both from HuggingFace) and then the PyTorch data loader for the model"
   ]
  },
  {
   "cell_type": "code",
   "execution_count": 7,
   "id": "e613b4bb-09a5-45bb-bc9d-4fc334fb8c50",
   "metadata": {
    "execution": {
     "iopub.execute_input": "2023-04-14T00:23:41.961922Z",
     "iopub.status.busy": "2023-04-14T00:23:41.961310Z",
     "iopub.status.idle": "2023-04-14T00:35:13.703862Z",
     "shell.execute_reply": "2023-04-14T00:35:13.703119Z",
     "shell.execute_reply.started": "2023-04-14T00:23:41.961896Z"
    }
   },
   "outputs": [
    {
     "name": "stderr",
     "output_type": "stream",
     "text": [
      "/usr/local/lib/python3.9/dist-packages/transformers/data/datasets/language_modeling.py:54: FutureWarning: This dataset will be removed from the library soon, preprocessing should be handled with the 🤗 Datasets library. You can have a look at this example script for pointers: https://github.com/huggingface/transformers/blob/main/examples/pytorch/language-modeling/run_mlm.py\n",
      "  warnings.warn(\n",
      "Token indices sequence length is longer than the specified maximum sequence length for this model (352137 > 512). Running this sequence through the model will result in indexing errors\n"
     ]
    }
   ],
   "source": [
    "from torch.utils.data import DataLoader\n",
    "\n",
    "dataset = TextDataset(file_path=f\"{author}_data.txt\", tokenizer=tokenizer, block_size=256)\n",
    "data_collator = DataCollatorForLanguageModeling(tokenizer=tokenizer, mlm=True, mlm_probability=0.35)\n",
    "\n",
    "train_dataloader = DataLoader(dataset, batch_size=batch_size, collate_fn=data_collator)\n"
   ]
  },
  {
   "attachments": {},
   "cell_type": "markdown",
   "id": "72b1bb26",
   "metadata": {},
   "source": [
    "We also save the data_loader, so that the lengthy process of running the above need not be done multiple times."
   ]
  },
  {
   "cell_type": "code",
   "execution_count": 8,
   "id": "faf68eb1-dda6-463b-9560-110cc62ecd97",
   "metadata": {
    "execution": {
     "iopub.execute_input": "2023-04-14T00:35:13.706156Z",
     "iopub.status.busy": "2023-04-14T00:35:13.705156Z",
     "iopub.status.idle": "2023-04-14T00:35:13.722295Z",
     "shell.execute_reply": "2023-04-14T00:35:13.721728Z",
     "shell.execute_reply.started": "2023-04-14T00:35:13.706131Z"
    }
   },
   "outputs": [],
   "source": [
    "import pickle\n",
    "def save_object(obj, filename):\n",
    "    with open(filename, \"wb\") as outp:\n",
    "        pickle.dump(obj, outp, pickle.HIGHEST_PROTOCOL)\n",
    "\n",
    "save_object(train_dataloader, f\"{author}_dataset.pickle\")"
   ]
  },
  {
   "attachments": {},
   "cell_type": "markdown",
   "id": "e6f5da9f",
   "metadata": {},
   "source": [
    "Now, we choose the optimizer and learning rate scheduler followed by the training loop for fine-tuning the model.\n",
    "In the training loop, we also keep track of the loss at each epoch and at every step to plot how well the model is learning."
   ]
  },
  {
   "cell_type": "code",
   "execution_count": 9,
   "id": "1db139bf-7fa8-4ed9-9a9d-e1cb39616cbc",
   "metadata": {
    "execution": {
     "iopub.execute_input": "2023-04-14T00:35:26.659650Z",
     "iopub.status.busy": "2023-04-14T00:35:26.658819Z",
     "iopub.status.idle": "2023-04-14T00:35:26.663552Z",
     "shell.execute_reply": "2023-04-14T00:35:26.662999Z",
     "shell.execute_reply.started": "2023-04-14T00:35:26.659624Z"
    }
   },
   "outputs": [],
   "source": [
    "# Define the optimizer and learning rate scheduler\n",
    "optimizer = torch.optim.Adam(model.parameters(), lr=5e-5)\n",
    "lr_scheduler = torch.optim.lr_scheduler.ReduceLROnPlateau(optimizer, mode='min', factor=0.1, patience=2)\n"
   ]
  },
  {
   "cell_type": "code",
   "execution_count": null,
   "id": "fdebbe4d-4c0e-4c22-ba66-b612329ca0a8",
   "metadata": {
    "execution": {
     "iopub.execute_input": "2023-04-14T00:35:29.097999Z",
     "iopub.status.busy": "2023-04-14T00:35:29.096893Z",
     "iopub.status.idle": "2023-04-14T02:47:08.930025Z",
     "shell.execute_reply": "2023-04-14T02:47:08.929241Z",
     "shell.execute_reply.started": "2023-04-14T00:35:29.097963Z"
    }
   },
   "outputs": [],
   "source": [
    "torch.cuda.empty_cache()\n",
    "\n",
    "# Train the model\n",
    "for epoch in range(num_epochs):\n",
    "    model.train()\n",
    "    train_loss = 0\n",
    "    epoch_train_loss = 0\n",
    "    for step, batch in enumerate(train_dataloader):\n",
    "        # forward pass\n",
    "        \n",
    "        outputs = model(input_ids=batch['input_ids'].to(device),labels=batch['labels'].to(device))\n",
    "        loss = outputs.loss\n",
    "        \n",
    "        # backward pass and optimization\n",
    "        optimizer.zero_grad()\n",
    "        loss.backward()\n",
    "        optimizer.step()\n",
    "        \n",
    "        train_loss += loss.item()\n",
    "        epoch_train_loss+=train_loss\n",
    "        train_loss_step.append(loss.item())\n",
    "        \n",
    "        # log training progress\n",
    "        if (step + 1) % log_interval == 0:\n",
    "            print(f\"Epoch [{epoch + 1}/{num_epochs}] Step [{step + 1}/{len(train_dataloader)}]: Train loss = {train_loss / log_interval}\")\n",
    "            train_loss = 0\n",
    "            \n",
    "    train_loss_epoch.append(epoch_train_loss / len(train_dataloader))"
   ]
  },
  {
   "attachments": {},
   "cell_type": "markdown",
   "id": "9f4dfe0d",
   "metadata": {},
   "source": [
    "Now that the model has been trained, we can plot and save the learning curves"
   ]
  },
  {
   "cell_type": "code",
   "execution_count": 12,
   "id": "c69aab81-a93d-4344-9d81-d5c07a296df6",
   "metadata": {
    "execution": {
     "iopub.execute_input": "2023-04-14T02:47:09.514374Z",
     "iopub.status.busy": "2023-04-14T02:47:09.514167Z",
     "iopub.status.idle": "2023-04-14T02:47:10.019582Z",
     "shell.execute_reply": "2023-04-14T02:47:10.018927Z",
     "shell.execute_reply.started": "2023-04-14T02:47:09.514353Z"
    }
   },
   "outputs": [
    {
     "data": {
      "image/png": "[encoded data removed]",
      "text/plain": [
       "<Figure size 640x480 with 1 Axes>"
      ]
     },
     "metadata": {},
     "output_type": "display_data"
    },
    {
     "data": {
      "image/png": "[encoded data removed]",
      "text/plain": [
       "<Figure size 640x480 with 1 Axes>"
      ]
     },
     "metadata": {},
     "output_type": "display_data"
    }
   ],
   "source": [
    "# plot learning curve\n",
    "import matplotlib.pyplot as plt\n",
    "\n",
    "plt.plot(train_loss_step, label='Training Loss (Step)')\n",
    "plt.xlabel('Step')\n",
    "plt.ylabel('Loss')\n",
    "plt.title(f\"{author} Step Learning Curve\")\n",
    "plt.legend()\n",
    "plt.savefig(f\"learning_curves/{author}_Step_Learning_Curve.png\")\n",
    "plt.show()\n",
    "plt.plot(train_loss_epoch, label='Training Loss (Epoch)')\n",
    "plt.xlabel('Epoch')\n",
    "plt.ylabel('Loss')\n",
    "plt.title(f\"{author} Epoch Learning Curve\")\n",
    "plt.legend()\n",
    "plt.savefig(f\"learning_curves/{author}_Epoch_Learning_Curve.png\")\n",
    "plt.show()"
   ]
  },
  {
   "attachments": {},
   "cell_type": "markdown",
   "id": "5b111723",
   "metadata": {},
   "source": [
    "All that remains is to save the new author weights for future inference."
   ]
  },
  {
   "cell_type": "code",
   "execution_count": 11,
   "id": "3f228762-803b-4858-b548-4322bf84bbcd",
   "metadata": {
    "execution": {
     "iopub.execute_input": "2023-04-14T02:47:08.936040Z",
     "iopub.status.busy": "2023-04-14T02:47:08.935855Z",
     "iopub.status.idle": "2023-04-14T02:47:09.509050Z",
     "shell.execute_reply": "2023-04-14T02:47:09.508120Z",
     "shell.execute_reply.started": "2023-04-14T02:47:08.936021Z"
    }
   },
   "outputs": [],
   "source": [
    "model.save_pretrained(f\"./{author}-finetuned/\")"
   ]
  },
  {
   "attachments": {},
   "cell_type": "markdown",
   "id": "791747ab-d943-4657-90dc-0402957c1e56",
   "metadata": {},
   "source": [
    "<hr>\n",
    "\n",
    "# Running New Inference\n",
    "After an author model has been trained, we can now generate new text (hopefully) in the style of the particular author. \n",
    "\n",
    "All that is required is to first load in the necessary weights."
   ]
  },
  {
   "cell_type": "code",
   "execution_count": null,
   "id": "73b78cfc-b584-4480-8cc2-2f621c73a8c1",
   "metadata": {
    "execution": {
     "iopub.execute_input": "2023-05-13T04:28:07.946666Z",
     "iopub.status.busy": "2023-05-13T04:28:07.945972Z",
     "iopub.status.idle": "2023-05-13T04:28:12.847801Z",
     "shell.execute_reply": "2023-05-13T04:28:12.847165Z",
     "shell.execute_reply.started": "2023-05-13T04:28:07.946640Z"
    }
   },
   "outputs": [],
   "source": [
    "author = \"Caesar\"\n",
    "tokenizer = AutoTokenizer.from_pretrained(\"./LatinBERT/\")\n",
    "model = AutoModelForMaskedLM.from_pretrained(f\"./{author}-finetuned/\")\n",
    "model.to(device)"
   ]
  },
  {
   "attachments": {},
   "cell_type": "markdown",
   "id": "bab7a051",
   "metadata": {},
   "source": [
    "And, after loading in the weights, we can provide a custom prompt, encode it, and ask the model to predict its continuation. "
   ]
  },
  {
   "cell_type": "code",
   "execution_count": 10,
   "id": "c5462dd3-d9c2-4c23-a506-8ec2a1d01984",
   "metadata": {
    "execution": {
     "iopub.execute_input": "2023-05-13T04:30:23.315867Z",
     "iopub.status.busy": "2023-05-13T04:30:23.315552Z",
     "iopub.status.idle": "2023-05-13T04:30:23.618820Z",
     "shell.execute_reply": "2023-05-13T04:30:23.617792Z",
     "shell.execute_reply.started": "2023-05-13T04:30:23.315842Z"
    }
   },
   "outputs": [
    {
     "name": "stdout",
     "output_type": "stream",
     "text": [
      "<class 'transformers.models.bert.modeling_bert.BertForMaskedLM'>\n",
      "olim nomine rufo iuvenis ingeniosus erat, sed numero hominum, quos illi attribuit, equos attribuit, arma, equos, equos attribuit. huic se atque suos attribuit ; huic marcum brutum praeficit. his copiis quintum um praeficit ; huic marcum\n"
     ]
    }
   ],
   "source": [
    "prompt = \"olim nomine rufo iuvenis ingeniosus erat,\".lower()\n",
    "input_ids = tokenizer.encode(prompt, return_tensors='pt')\n",
    "outputs = model.generate(input_ids=input_ids.to(device), max_length=50, do_sample=True)\n",
    "predicted_text = tokenizer.decode(outputs[0], skip_special_tokens=True)\n",
    "print(predicted_text)"
   ]
  }
 ],
 "metadata": {
  "kernelspec": {
   "display_name": "Python 3 (ipykernel)",
   "language": "python",
   "name": "python3"
  },
  "language_info": {
   "codemirror_mode": {
    "name": "ipython",
    "version": 3
   },
   "file_extension": ".py",
   "mimetype": "text/x-python",
   "name": "python",
   "nbconvert_exporter": "python",
   "pygments_lexer": "ipython3",
   "version": "3.9.16"
  }
 },
 "nbformat": 4,
 "nbformat_minor": 5
}
